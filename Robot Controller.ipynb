{
  "nbformat": 4,
  "nbformat_minor": 0,
  "metadata": {
    "colab": {
      "name": "Untitled4.ipynb",
      "provenance": [],
      "authorship_tag": "ABX9TyO0XTtrX0aTy7GlOOkrdu3w"
    },
    "kernelspec": {
      "name": "python3",
      "display_name": "Python 3"
    },
    "language_info": {
      "name": "python"
    }
  },
  "cells": [
    {
      "cell_type": "code",
      "metadata": {
        "colab": {
          "base_uri": "https://localhost:8080/",
          "height": 367
        },
        "id": "iauxeUV0d3dm",
        "outputId": "cde91973-ce0a-4b9c-947e-5d4e5e739d91"
      },
      "source": [
        "from controller import Robot\n",
        "robot=Robot()\n",
        "timestep=int(robot.getBasicTimeStep())\n",
        "time_step=32\n",
        "max_speed=6.28\n",
        "\n",
        "left_motor=robot.getMotor('left wheel motor')\n",
        "right_motor=robot.getMotor('right wheel motor')\n",
        "left_motor.setPostion(float('inf'))\n",
        "right_motor.setPostion(float('inf'))\n",
        "left_motor.setVelocity(0.0)\n",
        "right_motor.setVelocity(0.0)\n",
        "\n",
        "right_ir=robot.getDevice('RIGHT')\n",
        "right_ir.enable(time_step)\n",
        "mid_ir=robot.getDevice('MID')\n",
        "mid_ir.enable(time_step)\n",
        "left_ir=robot.getDevice('LEFT')\n",
        "left_ir.enable(time_step)\n",
        "\n",
        "\n",
        "while robot.step(timestep)!=-1:\n",
        "  right_ir_val=right_ir.getValue()\n",
        "  mid_ir_val=mid_ir.getValue()\n",
        "  left_ir_val=left_ir.getValue()\n",
        "\n",
        "print(\"left:{} mid:{} right:{}\" .format(left_ir_val,mid_ir_val,right_ir_val))\n",
        "\n",
        "left_speed=max_speed\n",
        "right_speed=max_speed\n",
        "\n",
        "if left_ir_val<600 and right_ir_val<600 and mid_ir_val>=600:\n",
        "\tleft_motor.setVelocity(-left_speed)\n",
        "\tright_motor.setVelocity(-right_speed)\n",
        "\n",
        "if left_ir_val<600 and right_ir_val>=600 and mid_ir_val>=600:\n",
        "\tleft_motor.setVelocity(-left_speed)\n",
        "\tright_motor.setVelocity(0)\n",
        "\n",
        "\n",
        "if left_ir_val>=600 and right_ir_val<600 and mid_ir_val>=600:\n",
        "\tleft_motor.setVelocity(0)\n",
        "\tright_motor.setVelocity(-right_speed)\n",
        "\n",
        "\n",
        "if left_ir_val>=600 and right_ir_val<600 and mid_ir_val<600:\n",
        "\tleft_motor.setVelocity(0)\n",
        "\tright_motor.setVelocity(-right_speed)\n",
        "\n",
        "\n",
        "\n",
        "if left_ir_val<600 and right_ir_val>=600 and mid_ir_val<600:\n",
        "\tleft_motor.setVelocity(-left_speed)\n",
        "\tright_motor.setVelocity(0)\n",
        "\n",
        "\n",
        "if left_ir_val<600 and right_ir_val<600 and mid_ir_val<600:\n",
        "  left_motor.setVelocity(-left_speed)\n",
        "  right_motor.setVelocity(-right_speed)\n",
        "  pass\n",
        "\n",
        "\n",
        "\n",
        "\n",
        "\n",
        "\n",
        "\n",
        "\n",
        "\n",
        "\n",
        "\n",
        "\n",
        "\n",
        "\n",
        "\n"
      ],
      "execution_count": null,
      "outputs": [
        {
          "output_type": "error",
          "ename": "ModuleNotFoundError",
          "evalue": "ignored",
          "traceback": [
            "\u001b[0;31m---------------------------------------------------------------------------\u001b[0m",
            "\u001b[0;31mModuleNotFoundError\u001b[0m                       Traceback (most recent call last)",
            "\u001b[0;32m<ipython-input-3-e6634dc2457d>\u001b[0m in \u001b[0;36m<module>\u001b[0;34m()\u001b[0m\n\u001b[0;32m----> 1\u001b[0;31m \u001b[0;32mfrom\u001b[0m \u001b[0mcontroller\u001b[0m \u001b[0;32mimport\u001b[0m \u001b[0mRobot\u001b[0m\u001b[0;34m\u001b[0m\u001b[0;34m\u001b[0m\u001b[0m\n\u001b[0m\u001b[1;32m      2\u001b[0m \u001b[0mrobot\u001b[0m\u001b[0;34m=\u001b[0m\u001b[0mRobot\u001b[0m\u001b[0;34m(\u001b[0m\u001b[0;34m)\u001b[0m\u001b[0;34m\u001b[0m\u001b[0;34m\u001b[0m\u001b[0m\n\u001b[1;32m      3\u001b[0m \u001b[0mtimestep\u001b[0m\u001b[0;34m=\u001b[0m\u001b[0mint\u001b[0m\u001b[0;34m(\u001b[0m\u001b[0mrobot\u001b[0m\u001b[0;34m.\u001b[0m\u001b[0mgetBasicTimeStep\u001b[0m\u001b[0;34m(\u001b[0m\u001b[0;34m)\u001b[0m\u001b[0;34m)\u001b[0m\u001b[0;34m\u001b[0m\u001b[0;34m\u001b[0m\u001b[0m\n\u001b[1;32m      4\u001b[0m \u001b[0mtime_step\u001b[0m\u001b[0;34m=\u001b[0m\u001b[0;36m32\u001b[0m\u001b[0;34m\u001b[0m\u001b[0;34m\u001b[0m\u001b[0m\n\u001b[1;32m      5\u001b[0m \u001b[0mmax_speed\u001b[0m\u001b[0;34m=\u001b[0m\u001b[0;36m6.28\u001b[0m\u001b[0;34m\u001b[0m\u001b[0;34m\u001b[0m\u001b[0m\n",
            "\u001b[0;31mModuleNotFoundError\u001b[0m: No module named 'controller'",
            "",
            "\u001b[0;31m---------------------------------------------------------------------------\u001b[0;32m\nNOTE: If your import is failing due to a missing package, you can\nmanually install dependencies using either !pip or !apt.\n\nTo view examples of installing some common dependencies, click the\n\"Open Examples\" button below.\n\u001b[0;31m---------------------------------------------------------------------------\u001b[0m\n"
          ]
        }
      ]
    }
  ]
}